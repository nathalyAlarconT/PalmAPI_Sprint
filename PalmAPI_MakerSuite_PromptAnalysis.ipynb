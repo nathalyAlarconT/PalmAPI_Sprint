{
  "cells": [
    {
      "cell_type": "markdown",
      "metadata": {
        "id": "view-in-github",
        "colab_type": "text"
      },
      "source": [
        "<a href=\"https://colab.research.google.com/github/nathalyAlarconT/PalmAPI_Sprint/blob/main/PalmAPI_MakerSuite_PromptAnalysis.ipynb\" target=\"_parent\"><img src=\"https://colab.research.google.com/assets/colab-badge.svg\" alt=\"Open In Colab\"/></a>"
      ]
    },
    {
      "cell_type": "markdown",
      "id": "1485d6b8-8e99-4731-a31b-436dbe1cc93f",
      "metadata": {
        "id": "1485d6b8-8e99-4731-a31b-436dbe1cc93f"
      },
      "source": [
        "## Step 0. Install libraries"
      ]
    },
    {
      "cell_type": "code",
      "execution_count": 1,
      "id": "1c9a8c64-507d-4967-a1b0-59bef42db533",
      "metadata": {
        "id": "1c9a8c64-507d-4967-a1b0-59bef42db533"
      },
      "outputs": [],
      "source": [
        "# !pip install google.generativeai"
      ]
    },
    {
      "cell_type": "markdown",
      "id": "06820127-4c74-4353-a9cc-7064c4b562f5",
      "metadata": {
        "id": "06820127-4c74-4353-a9cc-7064c4b562f5"
      },
      "source": [
        "##  Step 1. Import Google's Generative AI library"
      ]
    },
    {
      "cell_type": "code",
      "execution_count": null,
      "id": "be9227c0-37a8-4001-94b3-d690a7f47da4",
      "metadata": {
        "id": "be9227c0-37a8-4001-94b3-d690a7f47da4"
      },
      "outputs": [],
      "source": [
        "import google.generativeai as palm"
      ]
    },
    {
      "cell_type": "markdown",
      "id": "6f0e3900-d47b-404c-b3f9-f0a58b1dfcc0",
      "metadata": {
        "id": "6f0e3900-d47b-404c-b3f9-f0a58b1dfcc0"
      },
      "source": [
        "## Step 2: Add your API KEY"
      ]
    },
    {
      "cell_type": "code",
      "execution_count": null,
      "id": "27033c18-c398-4040-8466-00713f0790d1",
      "metadata": {
        "id": "27033c18-c398-4040-8466-00713f0790d1"
      },
      "outputs": [],
      "source": [
        "palm.configure(api_key=\"ADD HERE YOUR OWN API KEY\")"
      ]
    },
    {
      "cell_type": "markdown",
      "id": "eb96ccac-7034-4444-8587-56bfb71966c4",
      "metadata": {
        "id": "eb96ccac-7034-4444-8587-56bfb71966c4"
      },
      "source": [
        "## Step 3. Define your input prompt\n",
        "\n",
        "We are taking out of the generated script the input variable. So it can be more generic"
      ]
    },
    {
      "cell_type": "code",
      "execution_count": null,
      "id": "5887e4b4-a578-4de1-896b-19967ce8bb1d",
      "metadata": {
        "id": "5887e4b4-a578-4de1-896b-19967ce8bb1d"
      },
      "outputs": [],
      "source": [
        "input = 'Cooking for babies'"
      ]
    },
    {
      "cell_type": "markdown",
      "id": "83b3615d-5cc4-41ba-b72c-9e825d77223d",
      "metadata": {
        "id": "83b3615d-5cc4-41ba-b72c-9e825d77223d"
      },
      "source": [
        "## Step 4. Add the code generated from Maker Suite\n",
        "\n",
        "Just copy and paste the code from Maker suite:)\n"
      ]
    },
    {
      "cell_type": "code",
      "execution_count": null,
      "id": "3e892770-1e39-4ede-91a6-1b6b6195362f",
      "metadata": {
        "id": "3e892770-1e39-4ede-91a6-1b6b6195362f"
      },
      "outputs": [],
      "source": [
        "defaults = {\n",
        "'model': 'models/text-bison-001',\n",
        "'temperature': 0.7,\n",
        "'candidate_count': 1,\n",
        "'top_k': 40,\n",
        "'top_p': 0.95,\n",
        "'max_output_tokens': 1024,\n",
        "'stop_sequences': [],\n",
        "'safety_settings': [{\"category\":\"HARM_CATEGORY_DEROGATORY\",\"threshold\":1},{\"category\":\"HARM_CATEGORY_TOXICITY\",\"threshold\":1},{\"category\":\"HARM_CATEGORY_VIOLENCE\",\"threshold\":2},{\"category\":\"HARM_CATEGORY_SEXUAL\",\"threshold\":2},{\"category\":\"HARM_CATEGORY_MEDICAL\",\"threshold\":2},{\"category\":\"HARM_CATEGORY_DANGEROUS\",\"threshold\":2}],\n",
        "}\n",
        "\n",
        "prompt = f\"\"\"We are an online academy that generates online courses, create formal marketing content\n",
        "input: Basic Python for Teenagers.\n",
        "O_twitter: Want to learn a new skill that will help you in your future career? Learn Python! Our Python for Teenagers course will teach you the basics of Python, so you can start coding today.\n",
        "[Course link]\n",
        "O_linkedin: Are you a teenager who wants to learn how to code? Python is a powerful programming language that can be used for a variety of tasks. Our Python for Teenagers course will teach you the basics of Python, so you can start coding today.\n",
        "\n",
        "Enroll today and start learning Python!\n",
        "O_banner: A relevant image or graphic, such as a computer screen with code being typed on it, or a group of teenagers working on a coding project.\n",
        "A short, catchy phrase that summarizes the course, such as \"Learn Python for Teenagers\" or \"Coding for the Future.\"\n",
        "A call to action, such as \"Enroll now\" or \"Learn more.\"\n",
        "The course name, instructor, and start date.\n",
        "The course logo or branding.\n",
        "input: {input}\n",
        "O_twitter:\"\"\"\n"
      ]
    },
    {
      "cell_type": "markdown",
      "id": "05151dc8-0c34-4295-ac2e-6cce00bd9e6a",
      "metadata": {
        "id": "05151dc8-0c34-4295-ac2e-6cce00bd9e6a"
      },
      "source": [
        "## Step 5. Let's call the API with the new prompt"
      ]
    },
    {
      "cell_type": "code",
      "execution_count": null,
      "id": "e2884b9a-a530-4962-b653-f0780039f613",
      "metadata": {
        "id": "e2884b9a-a530-4962-b653-f0780039f613"
      },
      "outputs": [],
      "source": [
        "response = palm.generate_text(\n",
        "**defaults,\n",
        "prompt=prompt\n",
        ")\n",
        "new_gen_content = response.result"
      ]
    },
    {
      "cell_type": "markdown",
      "id": "6a81c20c-2e2d-4f6e-9b23-e0993b354bbd",
      "metadata": {
        "id": "6a81c20c-2e2d-4f6e-9b23-e0993b354bbd"
      },
      "source": [
        "## Step 6. Split the result to get each output separately\n",
        "We have added a prefix to each output \"O_\". We will split the text using the defined separator.\n",
        "You can use and define any other prefix"
      ]
    },
    {
      "cell_type": "code",
      "execution_count": null,
      "id": "9c2fb09c-e7e5-4a9f-bfd0-4b3de7b15140",
      "metadata": {
        "id": "9c2fb09c-e7e5-4a9f-bfd0-4b3de7b15140"
      },
      "outputs": [],
      "source": [
        "splitted_res = new_gen_content.split(\"O_\")\n",
        "twitter_content = splitted_res[0]\n",
        "linkedin_content = splitted_res[1]\n",
        "banner_guidelines = splitted_res[2]"
      ]
    },
    {
      "cell_type": "markdown",
      "id": "e536fcb5-ff85-4c2e-a41a-d37e5dfc7904",
      "metadata": {
        "id": "e536fcb5-ff85-4c2e-a41a-d37e5dfc7904"
      },
      "source": [
        "## Step 7. Enjoy your new generated content"
      ]
    },
    {
      "cell_type": "code",
      "execution_count": null,
      "id": "4d389bd1-3954-4938-905f-6b848d0a62ad",
      "metadata": {
        "id": "4d389bd1-3954-4938-905f-6b848d0a62ad",
        "outputId": "32168ae8-ea92-42a6-ac37-68d4fbb01a2b"
      },
      "outputs": [
        {
          "name": "stdout",
          "output_type": "stream",
          "text": [
            "Learn how to cook healthy and delicious meals for your baby! Our Cooking for Babies course will teach you everything you need to know, from choosing the right ingredients to creating nutritious and flavorful dishes.\n",
            "[Course link]\n",
            "\n"
          ]
        }
      ],
      "source": [
        "print(twitter_content)"
      ]
    },
    {
      "cell_type": "code",
      "execution_count": null,
      "id": "93569aa7-7ccb-4791-ba1e-b4f808a93f38",
      "metadata": {
        "id": "93569aa7-7ccb-4791-ba1e-b4f808a93f38",
        "outputId": "552154f1-5ec0-4117-f576-e610d708220e"
      },
      "outputs": [
        {
          "name": "stdout",
          "output_type": "stream",
          "text": [
            "linkedin: Are you a new parent looking to cook healthy and delicious meals for your baby? Our Cooking for Babies course will teach you everything you need to know, from choosing the right ingredients to creating nutritious and flavorful dishes.\n",
            "\n",
            "Enroll today and start cooking for your baby!\n",
            "\n"
          ]
        }
      ],
      "source": [
        "print(linkedin_content)"
      ]
    },
    {
      "cell_type": "code",
      "execution_count": null,
      "id": "3ca9341f-d673-4a60-8f15-37fd5492ddd8",
      "metadata": {
        "id": "3ca9341f-d673-4a60-8f15-37fd5492ddd8",
        "outputId": "91d86fa3-13da-467d-ac62-5f8273c249c6"
      },
      "outputs": [
        {
          "name": "stdout",
          "output_type": "stream",
          "text": [
            "banner: A relevant image or graphic, such as a baby eating a healthy meal, or a parent cooking in the kitchen.\n",
            "A short, catchy phrase that summarizes the course, such as \"Cooking for Babies\" or \"Healthy Meals for Your Little One.\"\n",
            "A call to action, such as \"Enroll now\" or \"Learn more.\"\n",
            "The course name, instructor, and start date.\n",
            "The course logo or branding.\n"
          ]
        }
      ],
      "source": [
        "print(banner_guidelines)"
      ]
    },
    {
      "cell_type": "code",
      "execution_count": null,
      "id": "7d90ab6c-5f45-4881-836b-f6033ca8bf14",
      "metadata": {
        "id": "7d90ab6c-5f45-4881-836b-f6033ca8bf14"
      },
      "outputs": [],
      "source": []
    }
  ],
  "metadata": {
    "kernelspec": {
      "display_name": "Python 3 (ipykernel)",
      "language": "python",
      "name": "python3"
    },
    "language_info": {
      "codemirror_mode": {
        "name": "ipython",
        "version": 3
      },
      "file_extension": ".py",
      "mimetype": "text/x-python",
      "name": "python",
      "nbconvert_exporter": "python",
      "pygments_lexer": "ipython3",
      "version": "3.9.12"
    },
    "toc-autonumbering": false,
    "toc-showcode": false,
    "colab": {
      "provenance": [],
      "toc_visible": true,
      "include_colab_link": true
    }
  },
  "nbformat": 4,
  "nbformat_minor": 5
}